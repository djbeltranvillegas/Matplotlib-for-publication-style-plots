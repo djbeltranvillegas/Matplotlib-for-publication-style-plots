{
 "cells": [
  {
   "cell_type": "markdown",
   "metadata": {},
   "source": [
    "# Tutorial for publication-style plots\n",
    "\n",
    "In this short tutorial I will go through some of my practices in making plots for publication and presentation. The procedure easily scales from single to multiple plots of different sizes.\n",
    "\n",
    "## #1 Single plot\n",
    "\n",
    "### Import libraries\n",
    "\n",
    "The main library to import is matplotlib. Numpy, scipy are imported as well."
   ]
  },
  {
   "cell_type": "code",
   "execution_count": 1,
   "metadata": {},
   "outputs": [],
   "source": [
    "import numpy as np\n",
    "#import matplotlib\n",
    "#matplotlib.use('Agg')  # Generates image without displaying the image (non-interactive backend)\n",
    "import matplotlib.pyplot as plt\n",
    "import matplotlib.ticker as ticker\n",
    "import matplotlib.cm as cm\n",
    "\n",
    "from matplotlib.colors import LogNorm\n",
    "from mpl_toolkits.axes_grid1 import make_axes_locatable\n",
    "\n",
    "from scipy.ndimage.filters import gaussian_filter\n",
    "\n",
    "from matplotlib.ticker import rcParams"
   ]
  },
  {
   "cell_type": "markdown",
   "metadata": {},
   "source": [
    "### Plot general characteristics\n",
    "\n",
    "rcParams allows you to define general plot characteristics, such as line widths, lengths of ticks, etc.\n",
    "This particular example uses Arial as the font, you can use the font of your choice."
   ]
  },
  {
   "cell_type": "code",
   "execution_count": 2,
   "metadata": {},
   "outputs": [],
   "source": [
    "font='Arial'\n",
    "\n",
    "rcParams['axes.linewidth'] = 1\n",
    "rcParams['xtick.major.size'] = 4\n",
    "rcParams['xtick.major.width'] = 1\n",
    "rcParams['xtick.minor.size'] = 2\n",
    "rcParams['xtick.minor.width'] = 1\n",
    "rcParams['ytick.major.size'] = 4\n",
    "rcParams['ytick.major.width'] = 1\n",
    "rcParams['ytick.minor.size'] = 2\n",
    "rcParams['ytick.minor.width'] = 1\n",
    "rcParams['xtick.direction'] = 'out'\n",
    "rcParams['ytick.direction'] = 'out'\n",
    "rcParams['font.family'] = 'sans-serif'\n",
    "rcParams['font.sans-serif'] = [font]\n",
    "rcParams['font.size'] = 14\n",
    "rcParams['mathtext.default'] = 'regular'\n",
    "rcParams['xtick.labelsize'] = 10\n",
    "rcParams['ytick.labelsize'] = 10\n",
    "\n",
    "from matplotlib import rc # This sometimes gives problems\n",
    "\n",
    "legend_properties = {'weight':'normal', 'size':10}\n",
    "axisl_properties = {'family':'sans-serif','sans-serif':[font], 'weight':'bold'}\n",
    "label_properties = {'weight':'normal', 'size':10}"
   ]
  },
  {
   "cell_type": "markdown",
   "metadata": {},
   "source": [
    "### Import data\n",
    "\n",
    "We use numpy's function loadtxt to get the data. We can do further data manipulation."
   ]
  },
  {
   "cell_type": "code",
   "execution_count": 3,
   "metadata": {},
   "outputs": [],
   "source": [
    "temp0,temp1,temp2,temp3= np.loadtxt('cr.txt').T\n",
    "\n",
    "temp1=temp1*50.3*24/24"
   ]
  },
  {
   "cell_type": "markdown",
   "metadata": {},
   "source": [
    "### The plot itself!\n",
    "\n",
    "Here I use a trick to set the units of distances in everything to be inches. I find it useful as setting image size correctly allows for font sizes and everything to be consistent. When defining a figure's size, Matplotlib asks for the dimensions of the figure, and then axes can be set in distances relative to the image size. My trick is to set the figure size to 1x1 inches, so setting axes becomes simply to state the distances in inches. SI afficionados can do a similar trick using centimeters.\n",
    "\n"
   ]
  },
  {
   "cell_type": "code",
   "execution_count": 4,
   "metadata": {},
   "outputs": [
    {
     "data": {
      "image/png": "[encoded data removed]",
      "text/plain": [
       "<Figure size 72x72 with 1 Axes>"
      ]
     },
     "metadata": {
      "needs_background": "light"
     },
     "output_type": "display_data"
    }
   ],
   "source": [
    "fig = plt.figure()\n",
    "fig.set_size_inches(1.00, 1.00, forward=True)\n",
    "ax1= fig.add_axes([.75,.75,2.5,2.5])\n",
    "\n",
    "# Line plots. Note the linestyle, color, and label fields.\n",
    "# Please note that the color is the hexadecimal rgb code. \n",
    "# Matplotlib allows simple color name usage, grayscale, etc. \n",
    "# Please refer to the documentstion: \n",
    "# https://matplotlib.org/2.0.2/api/colors_api.html \n",
    "\n",
    "ax1.plot(temp1,temp2,color='#3304ff',linestyle='-',label='A')\n",
    "ax1.plot(temp1,temp3,color='#ff2600',linestyle='-',label='B')\n",
    "\n",
    "# Optional legend. The \"label\" field in the above line plots \n",
    "# is the text that will appear in the legend.\n",
    "#ax1.legend(loc='best', prop=legend_properties, numpoints = 1) #,frameon=False)\n",
    "\n",
    "# Axis titles\n",
    "\n",
    "ax1.set_ylabel(r'$C(R)$',fontsize=14)\n",
    "ax1.set_xlabel(r'$R, \\AA$',fontsize=14)\n",
    "\n",
    "# Axis limits\n",
    "\n",
    "ax1.set_xlim(0,750)\n",
    "ax1.set_ylim(.003,2)\n",
    "\n",
    "# Tick location for the x axis\n",
    "\n",
    "ax1.xaxis.set_major_locator(ticker.MultipleLocator(200))   # sets major tick spacing\n",
    "ax1.xaxis.set_minor_locator(ticker.MultipleLocator(100))   # sets minor tick spacing\n",
    "\n",
    "# Tick label font\n",
    "\n",
    "ax1.set_xticklabels(ax1.get_xticks(), fontweight='bold', fontsize=10)\n",
    "ax1.set_yticklabels(ax1.get_yticks(), fontweight='bold', fontsize=10)\n",
    "\n",
    "# Tick label format\n",
    "\n",
    "ax1.xaxis.set_major_formatter(ticker.FormatStrFormatter('%.0f'))\n",
    "\n",
    "# In this plot the y axis is in log scale\n",
    "\n",
    "ax1.set_yscale(\"log\")\n",
    "\n",
    "# Finally, plot the thing!\n",
    "# There are commented out statements that generate a .png and a .svg versions of the plot.\n",
    "# .png is great for presentations as it maintains a high level of resolution without filling up disk space.\n",
    "# .svg is a vector image that can then be edited in Illustrator-like programs and maintains all the resolution\n",
    "# this is of paramout importance for peer-reviewed articles, as journals will ask for images in hi-res.\n",
    "\n",
    "#plt.savefig('cr.png', bbox_inches='tight', dpi=600)\n",
    "#plt.show()\n",
    "#plt.savefig('cr.svg', bbox_inches='tight')\n",
    "plt.show()"
   ]
  },
  {
   "cell_type": "markdown",
   "metadata": {},
   "source": [
    "## #2 Multiple plots\n",
    "\n",
    "Having multiple plots is a simple extension of the single plot set above. What you do is set different sets of axes in locations and dimensions as you require."
   ]
  },
  {
   "cell_type": "code",
   "execution_count": 5,
   "metadata": {},
   "outputs": [
    {
     "data": {
      "image/png": "[encoded data removed]",
      "text/plain": [
       "<Figure size 72x72 with 2 Axes>"
      ]
     },
     "metadata": {
      "needs_background": "light"
     },
     "output_type": "display_data"
    }
   ],
   "source": [
    "fig = plt.figure()\n",
    "fig.set_size_inches(1.00, 1.00, forward=True)\n",
    "\n",
    "# The two sets of axes are defined so ax2 is on top of ax1.\n",
    "# In this example the x axis is the same for both plots\n",
    "\n",
    "ax1= fig.add_axes([.75,.75,2.5,1.25])\n",
    "ax2= fig.add_axes([.75,.75+1.25,2.5,1.25])\n",
    "\n",
    "# Line plots\n",
    "\n",
    "ax1.plot(temp1,temp2,color='#3304ff',linestyle='-',label='A')\n",
    "ax2.plot(temp1,temp3,color='#ff2600',linestyle='-',label='B')\n",
    "\n",
    "#ax1.legend(loc='best', prop=legend_properties, numpoints = 1) #,frameon=False)\n",
    "#ax2.legend(loc='best', prop=legend_properties, numpoints = 1) #,frameon=False)\n",
    "\n",
    "# Axis titles\n",
    "\n",
    "ax1.set_ylabel(r'$C(R)$',fontsize=14)\n",
    "ax1.set_xlabel(r'$R, \\AA$',fontsize=14)\n",
    "\n",
    "# For ax2 we do not need to define the x axis, as the title is shared\n",
    "ax2.set_ylabel(r'$C(R)$',fontsize=14)\n",
    "\n",
    "\n",
    "# Axis limits\n",
    "\n",
    "ax1.set_xlim(0,750)\n",
    "ax1.set_ylim(.003,2)\n",
    "ax2.set_xlim(0,750)\n",
    "ax2.set_ylim(.003,2)\n",
    "\n",
    "# Tick location for the x axis\n",
    "\n",
    "ax1.xaxis.set_major_locator(ticker.MultipleLocator(200))   # sets major tick spacing\n",
    "ax1.xaxis.set_minor_locator(ticker.MultipleLocator(100))   # sets minor tick spacing\n",
    "ax2.xaxis.set_major_locator(ticker.MultipleLocator(200))   # sets major tick spacing\n",
    "ax2.xaxis.set_minor_locator(ticker.MultipleLocator(100))   # sets minor tick spacing\n",
    "\n",
    "\n",
    "# Tick label font\n",
    "\n",
    "ax1.set_xticklabels(ax1.get_xticks(), fontweight='bold', fontsize=10)\n",
    "ax1.set_yticklabels(ax1.get_yticks(), fontweight='bold', fontsize=10)\n",
    "\n",
    "# The x axis labels arenot needed for ax2 as it lays on top of ax1\n",
    "\n",
    "ax2.set_xticklabels([])\n",
    "ax2.set_yticklabels(ax1.get_yticks(), fontweight='bold', fontsize=10)\n",
    "\n",
    "# Tick label format\n",
    "\n",
    "ax1.xaxis.set_major_formatter(ticker.FormatStrFormatter('%.0f'))\n",
    "\n",
    "# In this plot the y axis is in log scale\n",
    "\n",
    "ax1.set_yscale(\"log\")\n",
    "ax2.set_yscale(\"log\")\n",
    "\n",
    "# Finally, plot the thing!\n",
    "# Same as above, option for .png and .svg is available.\n",
    "\n",
    "#plt.savefig('cr.png', bbox_inches='tight', dpi=600)\n",
    "#plt.show()\n",
    "#plt.savefig('cr.svg', bbox_inches='tight')\n",
    "plt.show()"
   ]
  },
  {
   "cell_type": "code",
   "execution_count": null,
   "metadata": {},
   "outputs": [],
   "source": []
  }
 ],
 "metadata": {
  "kernelspec": {
   "display_name": "Python 2",
   "language": "python",
   "name": "python2"
  },
  "language_info": {
   "codemirror_mode": {
    "name": "ipython",
    "version": 2
   },
   "file_extension": ".py",
   "mimetype": "text/x-python",
   "name": "python",
   "nbconvert_exporter": "python",
   "pygments_lexer": "ipython2",
   "version": "2.7.16"
  }
 },
 "nbformat": 4,
 "nbformat_minor": 2
}
